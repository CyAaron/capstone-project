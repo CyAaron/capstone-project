{
 "cells": [
  {
   "cell_type": "markdown",
   "metadata": {},
   "source": [
    "# Data Extraction"
   ]
  },
  {
   "cell_type": "markdown",
   "metadata": {},
   "source": [
    "## Download the dataset"
   ]
  },
  {
   "cell_type": "markdown",
   "metadata": {},
   "source": [
    "According to the Boston analysis website(https://data.boston.gov/), I found one of my interesting dataset, which named crime incident report(from 2015 to now). The download link is shown below: https://data.boston.gov/dataset/6220d948-eae2-4e4b-8723-2dc8e67722a3/resource/12cb3883-56f5-47de-afa5-3b1cf61b257b/download/crime_incident_reports.csv."
   ]
  },
  {
   "cell_type": "markdown",
   "metadata": {},
   "source": [
    "## Data Description"
   ]
  },
  {
   "cell_type": "markdown",
   "metadata": {},
   "source": [
    "The crime report data set lists the events that Boston police responded to. Details include descriptions, where and when it happened, whether guns were involved, streets, reporting areas, etc. From this database, we can classify crimes according to the type, and find out which areas are the main places of shooting, robbery and other malignant crimes. "
   ]
  },
  {
   "cell_type": "markdown",
   "metadata": {},
   "source": [
    "# Data Cleanup"
   ]
  },
  {
   "cell_type": "code",
   "execution_count": 63,
   "metadata": {},
   "outputs": [],
   "source": [
    "# The useful peamble\n",
    "import pandas as pd\n",
    "import numpy as np\n",
    "%matplotlib inline\n",
    "import matplotlib.pyplot as plt\n",
    "import seaborn as sns"
   ]
  },
  {
   "cell_type": "code",
   "execution_count": 64,
   "metadata": {
    "scrolled": true
   },
   "outputs": [
    {
     "data": {
      "text/html": [
       "<div>\n",
       "<style scoped>\n",
       "    .dataframe tbody tr th:only-of-type {\n",
       "        vertical-align: middle;\n",
       "    }\n",
       "\n",
       "    .dataframe tbody tr th {\n",
       "        vertical-align: top;\n",
       "    }\n",
       "\n",
       "    .dataframe thead th {\n",
       "        text-align: right;\n",
       "    }\n",
       "</style>\n",
       "<table border=\"1\" class=\"dataframe\">\n",
       "  <thead>\n",
       "    <tr style=\"text-align: right;\">\n",
       "      <th></th>\n",
       "      <th>INCIDENT_NUMBER</th>\n",
       "      <th>OFFENSE_CODE</th>\n",
       "      <th>OFFENSE_CODE_GROUP</th>\n",
       "      <th>OFFENSE_DESCRIPTION</th>\n",
       "      <th>DISTRICT</th>\n",
       "      <th>REPORTING_AREA</th>\n",
       "      <th>SHOOTING</th>\n",
       "      <th>OCCURRED_ON_DATE</th>\n",
       "      <th>YEAR</th>\n",
       "      <th>MONTH</th>\n",
       "      <th>DAY_OF_WEEK</th>\n",
       "      <th>HOUR</th>\n",
       "      <th>UCR_PART</th>\n",
       "      <th>STREET</th>\n",
       "      <th>Lat</th>\n",
       "      <th>Long</th>\n",
       "      <th>Location</th>\n",
       "    </tr>\n",
       "  </thead>\n",
       "  <tbody>\n",
       "    <tr>\n",
       "      <th>0</th>\n",
       "      <td>I182100836</td>\n",
       "      <td>3006</td>\n",
       "      <td>Medical Assistance</td>\n",
       "      <td>SICK/INJURED/MEDICAL - PERSON</td>\n",
       "      <td>D14</td>\n",
       "      <td>751</td>\n",
       "      <td>NaN</td>\n",
       "      <td>2018-12-14 21:00:00</td>\n",
       "      <td>2018</td>\n",
       "      <td>12</td>\n",
       "      <td>Friday</td>\n",
       "      <td>21</td>\n",
       "      <td>Part Three</td>\n",
       "      <td>LAKE SHORE CT</td>\n",
       "      <td>42.345991</td>\n",
       "      <td>-71.170290</td>\n",
       "      <td>(42.34599110, -71.17028987)</td>\n",
       "    </tr>\n",
       "    <tr>\n",
       "      <th>1</th>\n",
       "      <td>I182100829</td>\n",
       "      <td>613</td>\n",
       "      <td>Larceny</td>\n",
       "      <td>LARCENY SHOPLIFTING</td>\n",
       "      <td>C11</td>\n",
       "      <td>365</td>\n",
       "      <td>NaN</td>\n",
       "      <td>2018-12-14 20:29:00</td>\n",
       "      <td>2018</td>\n",
       "      <td>12</td>\n",
       "      <td>Friday</td>\n",
       "      <td>20</td>\n",
       "      <td>Part One</td>\n",
       "      <td>DORCHESTER AVE</td>\n",
       "      <td>42.290835</td>\n",
       "      <td>-71.062888</td>\n",
       "      <td>(42.29083470, -71.06288798)</td>\n",
       "    </tr>\n",
       "    <tr>\n",
       "      <th>2</th>\n",
       "      <td>I182100828</td>\n",
       "      <td>2629</td>\n",
       "      <td>Harassment</td>\n",
       "      <td>HARASSMENT</td>\n",
       "      <td>B2</td>\n",
       "      <td>312</td>\n",
       "      <td>NaN</td>\n",
       "      <td>2018-12-14 20:20:00</td>\n",
       "      <td>2018</td>\n",
       "      <td>12</td>\n",
       "      <td>Friday</td>\n",
       "      <td>20</td>\n",
       "      <td>Part Two</td>\n",
       "      <td>TOWNSEND ST</td>\n",
       "      <td>42.318126</td>\n",
       "      <td>-71.090256</td>\n",
       "      <td>(42.31812574, -71.09025637)</td>\n",
       "    </tr>\n",
       "    <tr>\n",
       "      <th>3</th>\n",
       "      <td>I182100827</td>\n",
       "      <td>562</td>\n",
       "      <td>Other Burglary</td>\n",
       "      <td>BURGLARY - OTHER - NO FORCE</td>\n",
       "      <td>E18</td>\n",
       "      <td>543</td>\n",
       "      <td>NaN</td>\n",
       "      <td>2018-12-14 20:43:00</td>\n",
       "      <td>2018</td>\n",
       "      <td>12</td>\n",
       "      <td>Friday</td>\n",
       "      <td>20</td>\n",
       "      <td>Part One</td>\n",
       "      <td>LINWOOD ST</td>\n",
       "      <td>42.256294</td>\n",
       "      <td>-71.127205</td>\n",
       "      <td>(42.25629375, -71.12720457)</td>\n",
       "    </tr>\n",
       "    <tr>\n",
       "      <th>4</th>\n",
       "      <td>I182100826</td>\n",
       "      <td>3410</td>\n",
       "      <td>Towed</td>\n",
       "      <td>TOWED MOTOR VEHICLE</td>\n",
       "      <td>D4</td>\n",
       "      <td>138</td>\n",
       "      <td>NaN</td>\n",
       "      <td>2018-12-14 19:09:00</td>\n",
       "      <td>2018</td>\n",
       "      <td>12</td>\n",
       "      <td>Friday</td>\n",
       "      <td>19</td>\n",
       "      <td>Part Three</td>\n",
       "      <td>FAIRFIELD ST</td>\n",
       "      <td>42.349493</td>\n",
       "      <td>-71.082086</td>\n",
       "      <td>(42.34949297, -71.08208625)</td>\n",
       "    </tr>\n",
       "  </tbody>\n",
       "</table>\n",
       "</div>"
      ],
      "text/plain": [
       "  INCIDENT_NUMBER  OFFENSE_CODE  OFFENSE_CODE_GROUP  \\\n",
       "0      I182100836          3006  Medical Assistance   \n",
       "1      I182100829           613             Larceny   \n",
       "2      I182100828          2629          Harassment   \n",
       "3      I182100827           562      Other Burglary   \n",
       "4      I182100826          3410               Towed   \n",
       "\n",
       "             OFFENSE_DESCRIPTION DISTRICT REPORTING_AREA SHOOTING  \\\n",
       "0  SICK/INJURED/MEDICAL - PERSON      D14            751      NaN   \n",
       "1            LARCENY SHOPLIFTING      C11            365      NaN   \n",
       "2                     HARASSMENT       B2            312      NaN   \n",
       "3    BURGLARY - OTHER - NO FORCE      E18            543      NaN   \n",
       "4            TOWED MOTOR VEHICLE       D4            138      NaN   \n",
       "\n",
       "      OCCURRED_ON_DATE  YEAR  MONTH DAY_OF_WEEK  HOUR    UCR_PART  \\\n",
       "0  2018-12-14 21:00:00  2018     12      Friday    21  Part Three   \n",
       "1  2018-12-14 20:29:00  2018     12      Friday    20    Part One   \n",
       "2  2018-12-14 20:20:00  2018     12      Friday    20    Part Two   \n",
       "3  2018-12-14 20:43:00  2018     12      Friday    20    Part One   \n",
       "4  2018-12-14 19:09:00  2018     12      Friday    19  Part Three   \n",
       "\n",
       "           STREET        Lat       Long                     Location  \n",
       "0   LAKE SHORE CT  42.345991 -71.170290  (42.34599110, -71.17028987)  \n",
       "1  DORCHESTER AVE  42.290835 -71.062888  (42.29083470, -71.06288798)  \n",
       "2     TOWNSEND ST  42.318126 -71.090256  (42.31812574, -71.09025637)  \n",
       "3      LINWOOD ST  42.256294 -71.127205  (42.25629375, -71.12720457)  \n",
       "4    FAIRFIELD ST  42.349493 -71.082086  (42.34949297, -71.08208625)  "
      ]
     },
     "execution_count": 64,
     "metadata": {},
     "output_type": "execute_result"
    }
   ],
   "source": [
    "#read csv file\n",
    "crime = pd.read_csv(\"crime_incident_reports.csv\") \n",
    "#select 5 lines\n",
    "crime.head(n=5) "
   ]
  },
  {
   "cell_type": "code",
   "execution_count": 65,
   "metadata": {},
   "outputs": [
    {
     "data": {
      "text/html": [
       "<div>\n",
       "<style scoped>\n",
       "    .dataframe tbody tr th:only-of-type {\n",
       "        vertical-align: middle;\n",
       "    }\n",
       "\n",
       "    .dataframe tbody tr th {\n",
       "        vertical-align: top;\n",
       "    }\n",
       "\n",
       "    .dataframe thead th {\n",
       "        text-align: right;\n",
       "    }\n",
       "</style>\n",
       "<table border=\"1\" class=\"dataframe\">\n",
       "  <thead>\n",
       "    <tr style=\"text-align: right;\">\n",
       "      <th></th>\n",
       "      <th>INCIDENT_NUMBER</th>\n",
       "      <th>OFFENSE_CODE</th>\n",
       "      <th>OFFENSE_CODE_GROUP</th>\n",
       "      <th>OFFENSE_DESCRIPTION</th>\n",
       "      <th>DISTRICT</th>\n",
       "      <th>REPORTING_AREA</th>\n",
       "      <th>SHOOTING</th>\n",
       "      <th>OCCURRED_ON_DATE</th>\n",
       "      <th>YEAR</th>\n",
       "      <th>MONTH</th>\n",
       "      <th>DAY_OF_WEEK</th>\n",
       "      <th>HOUR</th>\n",
       "      <th>UCR_PART</th>\n",
       "      <th>STREET</th>\n",
       "      <th>LAT</th>\n",
       "      <th>LONG</th>\n",
       "      <th>LOCATION</th>\n",
       "    </tr>\n",
       "  </thead>\n",
       "  <tbody>\n",
       "    <tr>\n",
       "      <th>141143</th>\n",
       "      <td>I172057584</td>\n",
       "      <td>1402</td>\n",
       "      <td>Vandalism</td>\n",
       "      <td>VANDALISM</td>\n",
       "      <td>C11</td>\n",
       "      <td>366</td>\n",
       "      <td>NaN</td>\n",
       "      <td>2017-07-16 16:24:00</td>\n",
       "      <td>2017</td>\n",
       "      <td>7</td>\n",
       "      <td>Sunday</td>\n",
       "      <td>16</td>\n",
       "      <td>Part Two</td>\n",
       "      <td>TEMPLETON WAY</td>\n",
       "      <td>42.290043</td>\n",
       "      <td>-71.057257</td>\n",
       "      <td>(42.29004265, -71.05725661)</td>\n",
       "    </tr>\n",
       "    <tr>\n",
       "      <th>204584</th>\n",
       "      <td>I162096155</td>\n",
       "      <td>802</td>\n",
       "      <td>Simple Assault</td>\n",
       "      <td>ASSAULT SIMPLE - BATTERY</td>\n",
       "      <td>B2</td>\n",
       "      <td>912</td>\n",
       "      <td>NaN</td>\n",
       "      <td>2016-11-24 16:49:00</td>\n",
       "      <td>2016</td>\n",
       "      <td>11</td>\n",
       "      <td>Thursday</td>\n",
       "      <td>16</td>\n",
       "      <td>Part Two</td>\n",
       "      <td>PARKER ST</td>\n",
       "      <td>42.324694</td>\n",
       "      <td>-71.100879</td>\n",
       "      <td>(42.32469443, -71.10087902)</td>\n",
       "    </tr>\n",
       "    <tr>\n",
       "      <th>27045</th>\n",
       "      <td>I182071075</td>\n",
       "      <td>3410</td>\n",
       "      <td>Towed</td>\n",
       "      <td>TOWED MOTOR VEHICLE</td>\n",
       "      <td>D4</td>\n",
       "      <td></td>\n",
       "      <td>NaN</td>\n",
       "      <td>2018-09-04 11:48:00</td>\n",
       "      <td>2018</td>\n",
       "      <td>9</td>\n",
       "      <td>Tuesday</td>\n",
       "      <td>11</td>\n",
       "      <td>Part Three</td>\n",
       "      <td>BALL ST</td>\n",
       "      <td>NaN</td>\n",
       "      <td>NaN</td>\n",
       "      <td>(0.00000000, 0.00000000)</td>\n",
       "    </tr>\n",
       "  </tbody>\n",
       "</table>\n",
       "</div>"
      ],
      "text/plain": [
       "       INCIDENT_NUMBER  OFFENSE_CODE OFFENSE_CODE_GROUP  \\\n",
       "141143      I172057584          1402          Vandalism   \n",
       "204584      I162096155           802     Simple Assault   \n",
       "27045       I182071075          3410              Towed   \n",
       "\n",
       "             OFFENSE_DESCRIPTION DISTRICT REPORTING_AREA SHOOTING  \\\n",
       "141143                 VANDALISM      C11            366      NaN   \n",
       "204584  ASSAULT SIMPLE - BATTERY       B2            912      NaN   \n",
       "27045        TOWED MOTOR VEHICLE       D4                     NaN   \n",
       "\n",
       "           OCCURRED_ON_DATE  YEAR  MONTH DAY_OF_WEEK  HOUR    UCR_PART  \\\n",
       "141143  2017-07-16 16:24:00  2017      7      Sunday    16    Part Two   \n",
       "204584  2016-11-24 16:49:00  2016     11    Thursday    16    Part Two   \n",
       "27045   2018-09-04 11:48:00  2018      9     Tuesday    11  Part Three   \n",
       "\n",
       "               STREET        LAT       LONG                     LOCATION  \n",
       "141143  TEMPLETON WAY  42.290043 -71.057257  (42.29004265, -71.05725661)  \n",
       "204584      PARKER ST  42.324694 -71.100879  (42.32469443, -71.10087902)  \n",
       "27045         BALL ST        NaN        NaN     (0.00000000, 0.00000000)  "
      ]
     },
     "execution_count": 65,
     "metadata": {},
     "output_type": "execute_result"
    }
   ],
   "source": [
    "crime.rename(str.upper, axis='columns', inplace=True)\n",
    "crime.sample(3)"
   ]
  },
  {
   "cell_type": "code",
   "execution_count": 66,
   "metadata": {},
   "outputs": [
    {
     "data": {
      "text/plain": [
       "(347445, 17)"
      ]
     },
     "execution_count": 66,
     "metadata": {},
     "output_type": "execute_result"
    }
   ],
   "source": [
    "crime.shape "
   ]
  },
  {
   "cell_type": "code",
   "execution_count": 67,
   "metadata": {},
   "outputs": [
    {
     "data": {
      "text/plain": [
       "INCIDENT_NUMBER        False\n",
       "OFFENSE_CODE           False\n",
       "OFFENSE_CODE_GROUP     False\n",
       "OFFENSE_DESCRIPTION    False\n",
       "DISTRICT                True\n",
       "REPORTING_AREA         False\n",
       "SHOOTING                True\n",
       "OCCURRED_ON_DATE       False\n",
       "YEAR                   False\n",
       "MONTH                  False\n",
       "DAY_OF_WEEK            False\n",
       "HOUR                   False\n",
       "UCR_PART                True\n",
       "STREET                  True\n",
       "LAT                     True\n",
       "LONG                    True\n",
       "LOCATION               False\n",
       "dtype: bool"
      ]
     },
     "execution_count": 67,
     "metadata": {},
     "output_type": "execute_result"
    }
   ],
   "source": [
    "# Find the missing data in which column\n",
    "crime.isnull().any()"
   ]
  },
  {
   "cell_type": "code",
   "execution_count": 68,
   "metadata": {},
   "outputs": [
    {
     "data": {
      "text/plain": [
       "INCIDENT_NUMBER             0\n",
       "OFFENSE_CODE                0\n",
       "OFFENSE_CODE_GROUP          0\n",
       "OFFENSE_DESCRIPTION         0\n",
       "DISTRICT                 1905\n",
       "REPORTING_AREA              0\n",
       "SHOOTING               346032\n",
       "OCCURRED_ON_DATE            0\n",
       "YEAR                        0\n",
       "MONTH                       0\n",
       "DAY_OF_WEEK                 0\n",
       "HOUR                        0\n",
       "UCR_PART                   98\n",
       "STREET                  11258\n",
       "LAT                     21748\n",
       "LONG                    21748\n",
       "LOCATION                    0\n",
       "dtype: int64"
      ]
     },
     "execution_count": 68,
     "metadata": {},
     "output_type": "execute_result"
    }
   ],
   "source": [
    "# Identify the number of missed data\n",
    "crime.isnull().sum()"
   ]
  },
  {
   "cell_type": "code",
   "execution_count": 69,
   "metadata": {},
   "outputs": [
    {
     "data": {
      "text/plain": [
       "Part Three    172875\n",
       "Part Two      106077\n",
       "Part One       67030\n",
       "Other           1365\n",
       "Name: UCR_PART, dtype: int64"
      ]
     },
     "execution_count": 69,
     "metadata": {},
     "output_type": "execute_result"
    }
   ],
   "source": [
    "crime['UCR_PART'].value_counts()"
   ]
  },
  {
   "cell_type": "code",
   "execution_count": 70,
   "metadata": {},
   "outputs": [
    {
     "data": {
      "text/plain": [
       "0"
      ]
     },
     "execution_count": 70,
     "metadata": {},
     "output_type": "execute_result"
    }
   ],
   "source": [
    "# process UCR_PART null data\n",
    "null_urc = crime['UCR_PART'].isnull().sum()\n",
    "counts = crime['UCR_PART'].value_counts()\n",
    "counts_sum = counts.sum()\n",
    "# wigths\n",
    "limits = [int(i/counts_sum*null_urc) for i in counts[:-1]]\n",
    "count_keys = list(counts.keys())\n",
    "for i, j in zip(count_keys[:-1], limits):\n",
    "    crime['UCR_PART'].fillna(i, limit=j, inplace=True)\n",
    "crime['UCR_PART'].fillna(count_keys[-1], inplace=True)\n",
    "\n",
    "crime['UCR_PART'].isnull().sum()"
   ]
  },
  {
   "cell_type": "code",
   "execution_count": 71,
   "metadata": {},
   "outputs": [
    {
     "data": {
      "text/plain": [
       "Y    1413\n",
       "Name: SHOOTING, dtype: int64"
      ]
     },
     "execution_count": 71,
     "metadata": {},
     "output_type": "execute_result"
    }
   ],
   "source": [
    "crime['SHOOTING'].value_counts()"
   ]
  },
  {
   "cell_type": "code",
   "execution_count": 72,
   "metadata": {},
   "outputs": [
    {
     "data": {
      "text/plain": [
       "0"
      ]
     },
     "execution_count": 72,
     "metadata": {},
     "output_type": "execute_result"
    }
   ],
   "source": [
    "# process SHOOTING null data\n",
    "crime['SHOOTING'].fillna('N', inplace=True)\n",
    "crime['SHOOTING'].isnull().sum()"
   ]
  },
  {
   "cell_type": "code",
   "execution_count": 73,
   "metadata": {},
   "outputs": [
    {
     "data": {
      "text/plain": [
       "B2     54565\n",
       "C11    46212\n",
       "D4     45798\n",
       "A1     39186\n",
       "B3     38466\n",
       "C6     25899\n",
       "D14    21881\n",
       "E13    19255\n",
       "E18    18890\n",
       "A7     14181\n",
       "E5     14163\n",
       "A15     7044\n",
       "Name: DISTRICT, dtype: int64"
      ]
     },
     "execution_count": 73,
     "metadata": {},
     "output_type": "execute_result"
    }
   ],
   "source": [
    "crime['DISTRICT'].value_counts()"
   ]
  },
  {
   "cell_type": "code",
   "execution_count": 74,
   "metadata": {},
   "outputs": [
    {
     "data": {
      "text/plain": [
       "0"
      ]
     },
     "execution_count": 74,
     "metadata": {},
     "output_type": "execute_result"
    }
   ],
   "source": [
    "# process DISTRICT null data\n",
    "null_dis = crime['DISTRICT'].isnull().sum()\n",
    "counts = crime['DISTRICT'].value_counts()\n",
    "counts_sum = counts.sum()\n",
    "# wigths\n",
    "limits = [int(i/counts_sum*null_dis) for i in counts[:-1]]\n",
    "count_keys = list(counts.keys())\n",
    "for i, j in zip(count_keys[:-1], limits):\n",
    "    crime['DISTRICT'].fillna(i, limit=j, inplace=True)\n",
    "crime['DISTRICT'].fillna(count_keys[-1], inplace=True)\n",
    "\n",
    "crime['DISTRICT'].isnull().sum()"
   ]
  },
  {
   "cell_type": "code",
   "execution_count": 75,
   "metadata": {},
   "outputs": [
    {
     "data": {
      "text/plain": [
       "WASHINGTON ST        15533\n",
       "BLUE HILL AVE         8469\n",
       "BOYLSTON ST           7899\n",
       "DORCHESTER AVE        5615\n",
       "TREMONT ST            5239\n",
       "MASSACHUSETTS AVE     5126\n",
       "HARRISON AVE          5054\n",
       "CENTRE ST             4787\n",
       "COMMONWEALTH AVE      4556\n",
       "HYDE PARK AVE         3785\n",
       "Name: STREET, dtype: int64"
      ]
     },
     "execution_count": 75,
     "metadata": {},
     "output_type": "execute_result"
    }
   ],
   "source": [
    "crime['STREET'].value_counts()[:10]"
   ]
  },
  {
   "cell_type": "code",
   "execution_count": 76,
   "metadata": {},
   "outputs": [
    {
     "data": {
      "text/plain": [
       "WASHINGTON ST        16053\n",
       "BLUE HILL AVE         8752\n",
       "BOYLSTON ST           8163\n",
       "METROPOLITAN AVE      6456\n",
       "DORCHESTER AVE        5803\n",
       "TREMONT ST            5414\n",
       "MASSACHUSETTS AVE     5297\n",
       "HARRISON AVE          5223\n",
       "CENTRE ST             4947\n",
       "COMMONWEALTH AVE      4708\n",
       "Name: STREET, dtype: int64"
      ]
     },
     "execution_count": 76,
     "metadata": {},
     "output_type": "execute_result"
    }
   ],
   "source": [
    "# process STREET null data\n",
    "null_dis = crime['STREET'].isnull().sum()\n",
    "counts = crime['STREET'].value_counts()\n",
    "counts_sum = counts.sum()\n",
    "# wigths:  choose most 100\n",
    "limits = [int(i/counts_sum*null_dis) for i in counts[:100]]\n",
    "count_keys = list(counts.keys())\n",
    "for i, j in zip(count_keys[:100], limits):\n",
    "    crime['STREET'].fillna(i, limit=j, inplace=True)\n",
    "crime['STREET'].fillna(count_keys[100], inplace=True)\n",
    "\n",
    "crime['STREET'].value_counts()[:10]"
   ]
  },
  {
   "cell_type": "code",
   "execution_count": 77,
   "metadata": {},
   "outputs": [],
   "source": [
    "# set(crime['REPORTING_AREA'])"
   ]
  },
  {
   "cell_type": "code",
   "execution_count": 78,
   "metadata": {},
   "outputs": [],
   "source": [
    "# process REPORT_AREA null data\n",
    "crime['REPORTING_AREA'] = crime['REPORTING_AREA'].apply(lambda x: np.NaN if x == ' ' else x)\n",
    "\n",
    "null_dis = crime['REPORTING_AREA'].isnull().sum()\n",
    "counts = crime['REPORTING_AREA'].value_counts()\n",
    "counts_sum = counts.sum()\n",
    "# wigths:  choose most 100\n",
    "limits = [int(i/counts_sum*null_dis) for i in counts[:100]]\n",
    "count_keys = list(counts.keys())\n",
    "for i, j in zip(count_keys[:100], limits):\n",
    "    crime['REPORTING_AREA'].fillna(i, limit=j, inplace=True)\n",
    "crime['REPORTING_AREA'].fillna(count_keys[100], inplace=True)\n",
    "\n",
    "crime['REPORTING_AREA'] = crime['REPORTING_AREA'].apply(lambda x: int(x))\n"
   ]
  },
  {
   "cell_type": "code",
   "execution_count": 79,
   "metadata": {},
   "outputs": [],
   "source": [
    "# drop useless columns\n",
    "crime.drop(columns=['INCIDENT_NUMBER', 'OFFENSE_CODE', 'OFFENSE_DESCRIPTION', 'LAT', 'LONG', 'OCCURRED_ON_DATE'], inplace=True)"
   ]
  },
  {
   "cell_type": "code",
   "execution_count": 80,
   "metadata": {},
   "outputs": [
    {
     "data": {
      "text/plain": [
       "Motor Vehicle Accident Response    40505\n",
       "Larceny                            28411\n",
       "Medical Assistance                 25789\n",
       "Investigate Person                 20200\n",
       "Other                              19606\n",
       "Drug Violation                     18004\n",
       "Simple Assault                     17278\n",
       "Vandalism                          16655\n",
       "Verbal Disputes                    14285\n",
       "Towed                              12318\n",
       "Name: OFFENSE_CODE_GROUP, dtype: int64"
      ]
     },
     "execution_count": 80,
     "metadata": {},
     "output_type": "execute_result"
    }
   ],
   "source": [
    "# most 10 crime group\n",
    "crime_counts = crime['OFFENSE_CODE_GROUP'].value_counts()\n",
    "crime_counts [:10]"
   ]
  },
  {
   "cell_type": "code",
   "execution_count": 81,
   "metadata": {},
   "outputs": [
    {
     "data": {
      "text/html": [
       "<div>\n",
       "<style scoped>\n",
       "    .dataframe tbody tr th:only-of-type {\n",
       "        vertical-align: middle;\n",
       "    }\n",
       "\n",
       "    .dataframe tbody tr th {\n",
       "        vertical-align: top;\n",
       "    }\n",
       "\n",
       "    .dataframe thead th {\n",
       "        text-align: right;\n",
       "    }\n",
       "</style>\n",
       "<table border=\"1\" class=\"dataframe\">\n",
       "  <thead>\n",
       "    <tr style=\"text-align: right;\">\n",
       "      <th></th>\n",
       "      <th>OFFENSE_CODE_GROUP</th>\n",
       "      <th>DISTRICT</th>\n",
       "      <th>REPORTING_AREA</th>\n",
       "      <th>SHOOTING</th>\n",
       "      <th>YEAR</th>\n",
       "      <th>MONTH</th>\n",
       "      <th>DAY_OF_WEEK</th>\n",
       "      <th>HOUR</th>\n",
       "      <th>UCR_PART</th>\n",
       "      <th>STREET</th>\n",
       "      <th>LOCATION</th>\n",
       "    </tr>\n",
       "  </thead>\n",
       "  <tbody>\n",
       "    <tr>\n",
       "      <th>988</th>\n",
       "      <td>Homicide</td>\n",
       "      <td>B3</td>\n",
       "      <td>474</td>\n",
       "      <td>Y</td>\n",
       "      <td>2018</td>\n",
       "      <td>12</td>\n",
       "      <td>Monday</td>\n",
       "      <td>21</td>\n",
       "      <td>Part One</td>\n",
       "      <td>SAVANNAH AVE</td>\n",
       "      <td>(42.27373936, -71.10108024)</td>\n",
       "    </tr>\n",
       "    <tr>\n",
       "      <th>3339</th>\n",
       "      <td>Aggravated Assault</td>\n",
       "      <td>E13</td>\n",
       "      <td>906</td>\n",
       "      <td>Y</td>\n",
       "      <td>2018</td>\n",
       "      <td>12</td>\n",
       "      <td>Saturday</td>\n",
       "      <td>22</td>\n",
       "      <td>Part One</td>\n",
       "      <td>HEATH ST</td>\n",
       "      <td>(42.32638832, -71.10181751)</td>\n",
       "    </tr>\n",
       "    <tr>\n",
       "      <th>3613</th>\n",
       "      <td>Homicide</td>\n",
       "      <td>B3</td>\n",
       "      <td>455</td>\n",
       "      <td>Y</td>\n",
       "      <td>2018</td>\n",
       "      <td>11</td>\n",
       "      <td>Friday</td>\n",
       "      <td>19</td>\n",
       "      <td>Part One</td>\n",
       "      <td>NORWELL ST</td>\n",
       "      <td>(42.30132851, -71.07870873)</td>\n",
       "    </tr>\n",
       "    <tr>\n",
       "      <th>4595</th>\n",
       "      <td>Aggravated Assault</td>\n",
       "      <td>B2</td>\n",
       "      <td>299</td>\n",
       "      <td>Y</td>\n",
       "      <td>2018</td>\n",
       "      <td>11</td>\n",
       "      <td>Tuesday</td>\n",
       "      <td>14</td>\n",
       "      <td>Part One</td>\n",
       "      <td>HOMMAGEN CT</td>\n",
       "      <td>(42.32547404, -71.08749972)</td>\n",
       "    </tr>\n",
       "    <tr>\n",
       "      <th>5411</th>\n",
       "      <td>Aggravated Assault</td>\n",
       "      <td>E13</td>\n",
       "      <td>307</td>\n",
       "      <td>Y</td>\n",
       "      <td>2018</td>\n",
       "      <td>11</td>\n",
       "      <td>Saturday</td>\n",
       "      <td>1</td>\n",
       "      <td>Part One</td>\n",
       "      <td>WESTMINSTER AVE</td>\n",
       "      <td>(42.31609763, -71.09524853)</td>\n",
       "    </tr>\n",
       "  </tbody>\n",
       "</table>\n",
       "</div>"
      ],
      "text/plain": [
       "      OFFENSE_CODE_GROUP DISTRICT  REPORTING_AREA SHOOTING  YEAR  MONTH  \\\n",
       "988             Homicide       B3             474        Y  2018     12   \n",
       "3339  Aggravated Assault      E13             906        Y  2018     12   \n",
       "3613            Homicide       B3             455        Y  2018     11   \n",
       "4595  Aggravated Assault       B2             299        Y  2018     11   \n",
       "5411  Aggravated Assault      E13             307        Y  2018     11   \n",
       "\n",
       "     DAY_OF_WEEK  HOUR  UCR_PART           STREET                     LOCATION  \n",
       "988       Monday    21  Part One     SAVANNAH AVE  (42.27373936, -71.10108024)  \n",
       "3339    Saturday    22  Part One         HEATH ST  (42.32638832, -71.10181751)  \n",
       "3613      Friday    19  Part One       NORWELL ST  (42.30132851, -71.07870873)  \n",
       "4595     Tuesday    14  Part One      HOMMAGEN CT  (42.32547404, -71.08749972)  \n",
       "5411    Saturday     1  Part One  WESTMINSTER AVE  (42.31609763, -71.09524853)  "
      ]
     },
     "execution_count": 81,
     "metadata": {},
     "output_type": "execute_result"
    }
   ],
   "source": [
    "# shooting\n",
    "shooting_crime = crime[crime['SHOOTING']=='Y']\n",
    "shooting_crime[:5]"
   ]
  },
  {
   "cell_type": "code",
   "execution_count": 82,
   "metadata": {
    "scrolled": true
   },
   "outputs": [
    {
     "data": {
      "text/html": [
       "<div>\n",
       "<style scoped>\n",
       "    .dataframe tbody tr th:only-of-type {\n",
       "        vertical-align: middle;\n",
       "    }\n",
       "\n",
       "    .dataframe tbody tr th {\n",
       "        vertical-align: top;\n",
       "    }\n",
       "\n",
       "    .dataframe thead th {\n",
       "        text-align: right;\n",
       "    }\n",
       "</style>\n",
       "<table border=\"1\" class=\"dataframe\">\n",
       "  <thead>\n",
       "    <tr style=\"text-align: right;\">\n",
       "      <th></th>\n",
       "      <th>OFFENSE_CODE_GROUP</th>\n",
       "      <th>DISTRICT</th>\n",
       "      <th>REPORTING_AREA</th>\n",
       "      <th>SHOOTING</th>\n",
       "      <th>YEAR</th>\n",
       "      <th>MONTH</th>\n",
       "      <th>DAY_OF_WEEK</th>\n",
       "      <th>HOUR</th>\n",
       "      <th>UCR_PART</th>\n",
       "      <th>STREET</th>\n",
       "      <th>LOCATION</th>\n",
       "    </tr>\n",
       "  </thead>\n",
       "  <tbody>\n",
       "    <tr>\n",
       "      <th>1</th>\n",
       "      <td>Larceny</td>\n",
       "      <td>C11</td>\n",
       "      <td>365</td>\n",
       "      <td>N</td>\n",
       "      <td>2018</td>\n",
       "      <td>12</td>\n",
       "      <td>Friday</td>\n",
       "      <td>20</td>\n",
       "      <td>Part One</td>\n",
       "      <td>DORCHESTER AVE</td>\n",
       "      <td>(42.29083470, -71.06288798)</td>\n",
       "    </tr>\n",
       "    <tr>\n",
       "      <th>5</th>\n",
       "      <td>Larceny</td>\n",
       "      <td>A1</td>\n",
       "      <td>105</td>\n",
       "      <td>N</td>\n",
       "      <td>2018</td>\n",
       "      <td>12</td>\n",
       "      <td>Friday</td>\n",
       "      <td>19</td>\n",
       "      <td>Part One</td>\n",
       "      <td>SUMMER ST</td>\n",
       "      <td>(42.35521625, -71.06012863)</td>\n",
       "    </tr>\n",
       "    <tr>\n",
       "      <th>22</th>\n",
       "      <td>Larceny</td>\n",
       "      <td>D4</td>\n",
       "      <td>170</td>\n",
       "      <td>N</td>\n",
       "      <td>2018</td>\n",
       "      <td>12</td>\n",
       "      <td>Friday</td>\n",
       "      <td>4</td>\n",
       "      <td>Part One</td>\n",
       "      <td>WASHINGTON ST</td>\n",
       "      <td>(42.33675016, -71.07662788)</td>\n",
       "    </tr>\n",
       "    <tr>\n",
       "      <th>27</th>\n",
       "      <td>Larceny</td>\n",
       "      <td>D4</td>\n",
       "      <td>143</td>\n",
       "      <td>N</td>\n",
       "      <td>2018</td>\n",
       "      <td>12</td>\n",
       "      <td>Friday</td>\n",
       "      <td>17</td>\n",
       "      <td>Part One</td>\n",
       "      <td>BOYLSTON ST</td>\n",
       "      <td>(42.34862382, -71.08277637)</td>\n",
       "    </tr>\n",
       "    <tr>\n",
       "      <th>33</th>\n",
       "      <td>Larceny</td>\n",
       "      <td>C6</td>\n",
       "      <td>200</td>\n",
       "      <td>N</td>\n",
       "      <td>2018</td>\n",
       "      <td>12</td>\n",
       "      <td>Friday</td>\n",
       "      <td>18</td>\n",
       "      <td>Part One</td>\n",
       "      <td>W BROADWAY</td>\n",
       "      <td>(42.34234193, -71.05633276)</td>\n",
       "    </tr>\n",
       "  </tbody>\n",
       "</table>\n",
       "</div>"
      ],
      "text/plain": [
       "   OFFENSE_CODE_GROUP DISTRICT  REPORTING_AREA SHOOTING  YEAR  MONTH  \\\n",
       "1             Larceny      C11             365        N  2018     12   \n",
       "5             Larceny       A1             105        N  2018     12   \n",
       "22            Larceny       D4             170        N  2018     12   \n",
       "27            Larceny       D4             143        N  2018     12   \n",
       "33            Larceny       C6             200        N  2018     12   \n",
       "\n",
       "   DAY_OF_WEEK  HOUR  UCR_PART          STREET                     LOCATION  \n",
       "1       Friday    20  Part One  DORCHESTER AVE  (42.29083470, -71.06288798)  \n",
       "5       Friday    19  Part One       SUMMER ST  (42.35521625, -71.06012863)  \n",
       "22      Friday     4  Part One   WASHINGTON ST  (42.33675016, -71.07662788)  \n",
       "27      Friday    17  Part One     BOYLSTON ST  (42.34862382, -71.08277637)  \n",
       "33      Friday    18  Part One      W BROADWAY  (42.34234193, -71.05633276)  "
      ]
     },
     "execution_count": 82,
     "metadata": {},
     "output_type": "execute_result"
    }
   ],
   "source": [
    "# larceny\n",
    "larceny = crime['OFFENSE_CODE_GROUP'] == \"Larceny\" \n",
    "larceny_crime = crime[larceny]\n",
    "larceny_crime[:5]"
   ]
  },
  {
   "cell_type": "code",
   "execution_count": 83,
   "metadata": {},
   "outputs": [
    {
     "data": {
      "text/plain": [
       "OFFENSE_CODE_GROUP    0\n",
       "DISTRICT              0\n",
       "REPORTING_AREA        0\n",
       "SHOOTING              0\n",
       "YEAR                  0\n",
       "MONTH                 0\n",
       "DAY_OF_WEEK           0\n",
       "HOUR                  0\n",
       "UCR_PART              0\n",
       "STREET                0\n",
       "LOCATION              0\n",
       "dtype: int64"
      ]
     },
     "execution_count": 83,
     "metadata": {},
     "output_type": "execute_result"
    }
   ],
   "source": [
    "crime.isnull().sum()"
   ]
  },
  {
   "cell_type": "code",
   "execution_count": 84,
   "metadata": {},
   "outputs": [],
   "source": [
    "# new feature\n",
    "crime['IS_LARCENY'] = crime['OFFENSE_CODE_GROUP'] == 'Larceny'"
   ]
  },
  {
   "cell_type": "code",
   "execution_count": 85,
   "metadata": {},
   "outputs": [
    {
     "data": {
      "text/html": [
       "<div>\n",
       "<style scoped>\n",
       "    .dataframe tbody tr th:only-of-type {\n",
       "        vertical-align: middle;\n",
       "    }\n",
       "\n",
       "    .dataframe tbody tr th {\n",
       "        vertical-align: top;\n",
       "    }\n",
       "\n",
       "    .dataframe thead th {\n",
       "        text-align: right;\n",
       "    }\n",
       "</style>\n",
       "<table border=\"1\" class=\"dataframe\">\n",
       "  <thead>\n",
       "    <tr style=\"text-align: right;\">\n",
       "      <th></th>\n",
       "      <th>OFFENSE_CODE_GROUP</th>\n",
       "      <th>DISTRICT</th>\n",
       "      <th>REPORTING_AREA</th>\n",
       "      <th>SHOOTING</th>\n",
       "      <th>YEAR</th>\n",
       "      <th>MONTH</th>\n",
       "      <th>DAY_OF_WEEK</th>\n",
       "      <th>HOUR</th>\n",
       "      <th>UCR_PART</th>\n",
       "      <th>STREET</th>\n",
       "      <th>LOCATION</th>\n",
       "      <th>IS_LARCENY</th>\n",
       "    </tr>\n",
       "  </thead>\n",
       "  <tbody>\n",
       "    <tr>\n",
       "      <th>14412</th>\n",
       "      <td>Motor Vehicle Accident Response</td>\n",
       "      <td>E13</td>\n",
       "      <td>624</td>\n",
       "      <td>N</td>\n",
       "      <td>2018</td>\n",
       "      <td>10</td>\n",
       "      <td>Friday</td>\n",
       "      <td>13</td>\n",
       "      <td>Part Three</td>\n",
       "      <td>CORNWALL ST</td>\n",
       "      <td>(0.00000000, 0.00000000)</td>\n",
       "      <td>False</td>\n",
       "    </tr>\n",
       "    <tr>\n",
       "      <th>39152</th>\n",
       "      <td>Larceny</td>\n",
       "      <td>C11</td>\n",
       "      <td>355</td>\n",
       "      <td>N</td>\n",
       "      <td>2018</td>\n",
       "      <td>7</td>\n",
       "      <td>Monday</td>\n",
       "      <td>17</td>\n",
       "      <td>Part One</td>\n",
       "      <td>GIBSON ST</td>\n",
       "      <td>(42.29755533, -71.05970910)</td>\n",
       "      <td>True</td>\n",
       "    </tr>\n",
       "    <tr>\n",
       "      <th>319424</th>\n",
       "      <td>Residential Burglary</td>\n",
       "      <td>C11</td>\n",
       "      <td>354</td>\n",
       "      <td>N</td>\n",
       "      <td>2015</td>\n",
       "      <td>9</td>\n",
       "      <td>Saturday</td>\n",
       "      <td>0</td>\n",
       "      <td>Part One</td>\n",
       "      <td>NEPONSET AVE</td>\n",
       "      <td>(42.29711149, -71.05614405)</td>\n",
       "      <td>False</td>\n",
       "    </tr>\n",
       "    <tr>\n",
       "      <th>109726</th>\n",
       "      <td>Larceny From Motor Vehicle</td>\n",
       "      <td>C11</td>\n",
       "      <td>436</td>\n",
       "      <td>N</td>\n",
       "      <td>2017</td>\n",
       "      <td>10</td>\n",
       "      <td>Tuesday</td>\n",
       "      <td>8</td>\n",
       "      <td>Part One</td>\n",
       "      <td>WASHINGTON ST</td>\n",
       "      <td>(42.28794860, -71.07117745)</td>\n",
       "      <td>False</td>\n",
       "    </tr>\n",
       "    <tr>\n",
       "      <th>221698</th>\n",
       "      <td>Larceny</td>\n",
       "      <td>B2</td>\n",
       "      <td>604</td>\n",
       "      <td>N</td>\n",
       "      <td>2016</td>\n",
       "      <td>9</td>\n",
       "      <td>Friday</td>\n",
       "      <td>13</td>\n",
       "      <td>Part One</td>\n",
       "      <td>DARLING ST</td>\n",
       "      <td>(42.33178750, -71.10562690)</td>\n",
       "      <td>True</td>\n",
       "    </tr>\n",
       "  </tbody>\n",
       "</table>\n",
       "</div>"
      ],
      "text/plain": [
       "                     OFFENSE_CODE_GROUP DISTRICT  REPORTING_AREA SHOOTING  \\\n",
       "14412   Motor Vehicle Accident Response      E13             624        N   \n",
       "39152                           Larceny      C11             355        N   \n",
       "319424             Residential Burglary      C11             354        N   \n",
       "109726       Larceny From Motor Vehicle      C11             436        N   \n",
       "221698                          Larceny       B2             604        N   \n",
       "\n",
       "        YEAR  MONTH DAY_OF_WEEK  HOUR    UCR_PART         STREET  \\\n",
       "14412   2018     10      Friday    13  Part Three    CORNWALL ST   \n",
       "39152   2018      7      Monday    17    Part One      GIBSON ST   \n",
       "319424  2015      9    Saturday     0    Part One   NEPONSET AVE   \n",
       "109726  2017     10     Tuesday     8    Part One  WASHINGTON ST   \n",
       "221698  2016      9      Friday    13    Part One     DARLING ST   \n",
       "\n",
       "                           LOCATION  IS_LARCENY  \n",
       "14412      (0.00000000, 0.00000000)       False  \n",
       "39152   (42.29755533, -71.05970910)        True  \n",
       "319424  (42.29711149, -71.05614405)       False  \n",
       "109726  (42.28794860, -71.07117745)       False  \n",
       "221698  (42.33178750, -71.10562690)        True  "
      ]
     },
     "execution_count": 85,
     "metadata": {},
     "output_type": "execute_result"
    }
   ],
   "source": [
    "# data after process\n",
    "crime.sample(5)"
   ]
  },
  {
   "cell_type": "code",
   "execution_count": 86,
   "metadata": {},
   "outputs": [],
   "source": [
    "# district_dict = {j:i for i, j in enumerate(crime['DISTRICT'].unique())}\n",
    "# shooting_dict = {j:i for i, j in enumerate(crime['SHOOTING'].unique())}\n",
    "# year_dict = {j:i for i, j in enumerate(crime['YEAR'].unique())}\n",
    "# month_dict = {j:i for i, j in enumerate(crime['MONTH'].unique())}\n",
    "# hour_dict = {j:i for i, j in enumerate(crime['HOUR'].unique())}\n",
    "# day_dict = {j:i for i, j in enumerate(crime['DAY_OF_WEEK'].unique())}\n",
    "# ucr_dict = {j:i for i, j in enumerate(crime['UCR_PART'].unique())}"
   ]
  },
  {
   "cell_type": "code",
   "execution_count": 87,
   "metadata": {},
   "outputs": [],
   "source": [
    "# crime['DISTRICT'] = [district_dict[i] for i in crime['DISTRICT']]\n",
    "# crime['SHOOTING'] = [shooting_dict[i] for i in crime['SHOOTING']]\n",
    "# crime['YEAR'] = [year_dict[i] for i in crime['YEAR']]\n",
    "# crime['HOUR'] = [hour_dict[i] for i in crime['HOUR']]\n",
    "# crime['MONTH'] = [month_dict[i] for i in crime['MONTH']]\n",
    "# crime['DAY_OF_WEEK'] = [day_dict[i] for i in crime['DAY_OF_WEEK']]\n",
    "# crime['UCR_PART'] = [ucr_dict[i] for i in crime['UCR_PART']]\n",
    "# crime.sample(5)"
   ]
  },
  {
   "cell_type": "code",
   "execution_count": 88,
   "metadata": {},
   "outputs": [],
   "source": [
    "# crime.isnull().sum()"
   ]
  },
  {
   "cell_type": "markdown",
   "metadata": {},
   "source": [
    "# Data Visualization"
   ]
  },
  {
   "cell_type": "code",
   "execution_count": 89,
   "metadata": {},
   "outputs": [
    {
     "data": {
      "image/png": "[encoded data removed]",
      "text/plain": [
       "<Figure size 2160x720 with 1 Axes>"
      ]
     },
     "metadata": {
      "needs_background": "light"
     },
     "output_type": "display_data"
    }
   ],
   "source": [
    "plt.figure(figsize = (30,10))\n",
    "\n",
    "sns.countplot(x='OFFENSE_CODE_GROUP',data=crime,order=crime['OFFENSE_CODE_GROUP'].value_counts().index)\n",
    "plt.title('Crime Group')\n",
    "plt.xticks(rotation=45)\n",
    "plt.ylabel('No of crimes')\n",
    "plt.show()"
   ]
  },
  {
   "cell_type": "code",
   "execution_count": 90,
   "metadata": {},
   "outputs": [
    {
     "data": {
      "image/png": "[encoded data removed]",
      "text/plain": [
       "<Figure size 2160x720 with 1 Axes>"
      ]
     },
     "metadata": {
      "needs_background": "light"
     },
     "output_type": "display_data"
    }
   ],
   "source": [
    "plt.figure(figsize = (30,10))\n",
    "\n",
    "sns.countplot(x='DISTRICT',data=crime,order=crime['DISTRICT'].value_counts().index)\n",
    "plt.title('District of all crimes')\n",
    "plt.xticks(rotation=45)\n",
    "plt.ylabel('No of crimes')\n",
    "plt.show()"
   ]
  },
  {
   "cell_type": "code",
   "execution_count": 91,
   "metadata": {},
   "outputs": [
    {
     "data": {
      "image/png": "[encoded data removed]",
      "text/plain": [
       "<Figure size 2160x720 with 1 Axes>"
      ]
     },
     "metadata": {
      "needs_background": "light"
     },
     "output_type": "display_data"
    }
   ],
   "source": [
    "plt.figure(figsize = (30,10))\n",
    "\n",
    "sns.countplot(x='DISTRICT',data=larceny_crime,order=larceny_crime['DISTRICT'].value_counts().index)\n",
    "plt.title('District of larceny')\n",
    "plt.xticks(rotation=45)\n",
    "plt.ylabel('No of crimes')\n",
    "plt.show()"
   ]
  },
  {
   "cell_type": "code",
   "execution_count": 92,
   "metadata": {},
   "outputs": [
    {
     "data": {
      "image/png": "[encoded data removed]",
      "text/plain": [
       "<Figure size 2160x720 with 1 Axes>"
      ]
     },
     "metadata": {
      "needs_background": "light"
     },
     "output_type": "display_data"
    }
   ],
   "source": [
    "plt.figure(figsize = (30,10))\n",
    "\n",
    "sns.countplot(x='DISTRICT',data=shooting_crime,order=shooting_crime['DISTRICT'].value_counts().index)\n",
    "plt.title('District of shooting')\n",
    "plt.xticks(rotation=45)\n",
    "plt.ylabel('No of crimes')\n",
    "plt.show()"
   ]
  },
  {
   "cell_type": "code",
   "execution_count": 93,
   "metadata": {},
   "outputs": [
    {
     "data": {
      "image/png": "[encoded data removed]",
      "text/plain": [
       "<Figure size 720x360 with 1 Axes>"
      ]
     },
     "metadata": {
      "needs_background": "light"
     },
     "output_type": "display_data"
    }
   ],
   "source": [
    "plt.figure(figsize = (10,5))\n",
    "\n",
    "sns.countplot(x='DAY_OF_WEEK',data=crime,order=crime['DAY_OF_WEEK'].value_counts().index)\n",
    "plt.title('Day of week of all crimes')\n",
    "plt.xticks(rotation=45)\n",
    "plt.ylabel('No of crimes')\n",
    "plt.show()"
   ]
  },
  {
   "cell_type": "code",
   "execution_count": 94,
   "metadata": {},
   "outputs": [
    {
     "data": {
      "image/png": "[encoded data removed]",
      "text/plain": [
       "<Figure size 720x360 with 1 Axes>"
      ]
     },
     "metadata": {
      "needs_background": "light"
     },
     "output_type": "display_data"
    }
   ],
   "source": [
    "plt.figure(figsize = (10,5))\n",
    "\n",
    "sns.countplot(x='DAY_OF_WEEK',data=larceny_crime,order=larceny_crime['DAY_OF_WEEK'].value_counts().index)\n",
    "plt.title('Day of week of larceny')\n",
    "plt.xticks(rotation=45)\n",
    "plt.ylabel('No of crimes')\n",
    "plt.show()"
   ]
  },
  {
   "cell_type": "code",
   "execution_count": 95,
   "metadata": {},
   "outputs": [
    {
     "data": {
      "image/png": "[encoded data removed]",
      "text/plain": [
       "<Figure size 720x360 with 1 Axes>"
      ]
     },
     "metadata": {
      "needs_background": "light"
     },
     "output_type": "display_data"
    }
   ],
   "source": [
    "plt.figure(figsize = (10,5))\n",
    "\n",
    "sns.countplot(x='DAY_OF_WEEK',data=shooting_crime,order=shooting_crime['DAY_OF_WEEK'].value_counts().index)\n",
    "plt.title('Day of week of shooting')\n",
    "plt.xticks(rotation=45)\n",
    "plt.ylabel('No of crimes')\n",
    "plt.show()"
   ]
  },
  {
   "cell_type": "code",
   "execution_count": 96,
   "metadata": {},
   "outputs": [
    {
     "data": {
      "image/png": "[encoded data removed]",
      "text/plain": [
       "<Figure size 1440x360 with 1 Axes>"
      ]
     },
     "metadata": {
      "needs_background": "light"
     },
     "output_type": "display_data"
    }
   ],
   "source": [
    "plt.figure(figsize = (20,5))\n",
    "\n",
    "sns.countplot(x='MONTH',data=crime,order=crime['MONTH'].value_counts().index)\n",
    "plt.title('Month of all crimes')\n",
    "plt.xticks(rotation=45)\n",
    "plt.ylabel('No of crimes')\n",
    "plt.show()"
   ]
  },
  {
   "cell_type": "code",
   "execution_count": 97,
   "metadata": {},
   "outputs": [
    {
     "data": {
      "image/png": "[encoded data removed]",
      "text/plain": [
       "<Figure size 1440x360 with 1 Axes>"
      ]
     },
     "metadata": {
      "needs_background": "light"
     },
     "output_type": "display_data"
    }
   ],
   "source": [
    "plt.figure(figsize = (20,5))\n",
    "\n",
    "sns.countplot(x='MONTH',data=larceny_crime,order=larceny_crime['MONTH'].value_counts().index)\n",
    "plt.title('Month of larceny')\n",
    "plt.xticks(rotation=45)\n",
    "plt.ylabel('No of crimes')\n",
    "plt.show()"
   ]
  },
  {
   "cell_type": "code",
   "execution_count": 98,
   "metadata": {},
   "outputs": [
    {
     "data": {
      "image/png": "[encoded data removed]",
      "text/plain": [
       "<Figure size 1440x360 with 1 Axes>"
      ]
     },
     "metadata": {
      "needs_background": "light"
     },
     "output_type": "display_data"
    }
   ],
   "source": [
    "plt.figure(figsize = (20,5))\n",
    "\n",
    "sns.countplot(x='MONTH',data=shooting_crime,order=shooting_crime['MONTH'].value_counts().index)\n",
    "plt.title('Month of shooting')\n",
    "plt.xticks(rotation=45)\n",
    "plt.ylabel('No of crimes')\n",
    "plt.show()"
   ]
  },
  {
   "cell_type": "code",
   "execution_count": 99,
   "metadata": {},
   "outputs": [
    {
     "data": {
      "image/png": "[encoded data removed]",
      "text/plain": [
       "<Figure size 1440x360 with 1 Axes>"
      ]
     },
     "metadata": {
      "needs_background": "light"
     },
     "output_type": "display_data"
    }
   ],
   "source": [
    "plt.figure(figsize = (20,5))\n",
    "\n",
    "sns.countplot(x='HOUR',data=crime,order=crime['HOUR'].value_counts().index)\n",
    "plt.title('Hour of all crimes')\n",
    "plt.xticks(rotation=45)\n",
    "plt.ylabel('No of crimes')\n",
    "plt.show()"
   ]
  },
  {
   "cell_type": "code",
   "execution_count": 100,
   "metadata": {},
   "outputs": [
    {
     "data": {
      "image/png": "[encoded data removed]",
      "text/plain": [
       "<Figure size 1440x360 with 1 Axes>"
      ]
     },
     "metadata": {
      "needs_background": "light"
     },
     "output_type": "display_data"
    }
   ],
   "source": [
    "plt.figure(figsize = (20,5))\n",
    "\n",
    "sns.countplot(x='HOUR',data=larceny_crime,order=larceny_crime['HOUR'].value_counts().index)\n",
    "plt.title('Hour of larceny')\n",
    "plt.xticks(rotation=45)\n",
    "plt.ylabel('No of crimes')\n",
    "plt.show()"
   ]
  },
  {
   "cell_type": "code",
   "execution_count": 101,
   "metadata": {},
   "outputs": [
    {
     "data": {
      "image/png": "[encoded data removed]",
      "text/plain": [
       "<Figure size 1440x360 with 1 Axes>"
      ]
     },
     "metadata": {
      "needs_background": "light"
     },
     "output_type": "display_data"
    }
   ],
   "source": [
    "plt.figure(figsize = (20,5))\n",
    "\n",
    "sns.countplot(x='HOUR',data=shooting_crime,order=shooting_crime['HOUR'].value_counts().index)\n",
    "plt.title('Hour of shooting')\n",
    "plt.xticks(rotation=45)\n",
    "plt.ylabel('No of crimes')\n",
    "plt.show()"
   ]
  },
  {
   "cell_type": "markdown",
   "metadata": {},
   "source": [
    "# Descriptive/Predictive analytics"
   ]
  },
  {
   "cell_type": "markdown",
   "metadata": {},
   "source": [
    "## Predictive model"
   ]
  },
  {
   "cell_type": "code",
   "execution_count": 102,
   "metadata": {},
   "outputs": [],
   "source": [
    "# import packages\n",
    "from sklearn.linear_model import LogisticRegression\n",
    "from sklearn.naive_bayes import GaussianNB\n",
    "from sklearn.ensemble import RandomForestClassifier\n",
    "from sklearn.tree import DecisionTreeClassifier\n",
    "from sklearn.model_selection import cross_val_score\n",
    "from sklearn.preprocessing import OneHotEncoder\n",
    "from sklearn.compose import ColumnTransformer"
   ]
  },
  {
   "cell_type": "code",
   "execution_count": 103,
   "metadata": {},
   "outputs": [
    {
     "data": {
      "text/plain": [
       "((100000, 10), (100000,))"
      ]
     },
     "execution_count": 103,
     "metadata": {},
     "output_type": "execute_result"
    }
   ],
   "source": [
    "# choose part of data, otherwise the mechine doesnt work.\n",
    "crime_part = crime.sample(100000)\n",
    "x = crime_part.drop(columns=['OFFENSE_CODE_GROUP', 'IS_LARCENY'])\n",
    "y = crime_part['IS_LARCENY']\n",
    "x.shape, y.shape"
   ]
  },
  {
   "cell_type": "code",
   "execution_count": 104,
   "metadata": {},
   "outputs": [
    {
     "data": {
      "text/html": [
       "<div>\n",
       "<style scoped>\n",
       "    .dataframe tbody tr th:only-of-type {\n",
       "        vertical-align: middle;\n",
       "    }\n",
       "\n",
       "    .dataframe tbody tr th {\n",
       "        vertical-align: top;\n",
       "    }\n",
       "\n",
       "    .dataframe thead th {\n",
       "        text-align: right;\n",
       "    }\n",
       "</style>\n",
       "<table border=\"1\" class=\"dataframe\">\n",
       "  <thead>\n",
       "    <tr style=\"text-align: right;\">\n",
       "      <th></th>\n",
       "      <th>OFFENSE_CODE_GROUP</th>\n",
       "      <th>DISTRICT</th>\n",
       "      <th>REPORTING_AREA</th>\n",
       "      <th>SHOOTING</th>\n",
       "      <th>YEAR</th>\n",
       "      <th>MONTH</th>\n",
       "      <th>DAY_OF_WEEK</th>\n",
       "      <th>HOUR</th>\n",
       "      <th>UCR_PART</th>\n",
       "      <th>STREET</th>\n",
       "      <th>LOCATION</th>\n",
       "      <th>IS_LARCENY</th>\n",
       "    </tr>\n",
       "  </thead>\n",
       "  <tbody>\n",
       "    <tr>\n",
       "      <th>278846</th>\n",
       "      <td>Motor Vehicle Accident Response</td>\n",
       "      <td>B2</td>\n",
       "      <td>326</td>\n",
       "      <td>N</td>\n",
       "      <td>2016</td>\n",
       "      <td>3</td>\n",
       "      <td>Tuesday</td>\n",
       "      <td>18</td>\n",
       "      <td>Part Three</td>\n",
       "      <td>QUINCY ST</td>\n",
       "      <td>(42.31297722, -71.07499278)</td>\n",
       "      <td>False</td>\n",
       "    </tr>\n",
       "    <tr>\n",
       "      <th>174575</th>\n",
       "      <td>Motor Vehicle Accident Response</td>\n",
       "      <td>B2</td>\n",
       "      <td>320</td>\n",
       "      <td>N</td>\n",
       "      <td>2017</td>\n",
       "      <td>3</td>\n",
       "      <td>Saturday</td>\n",
       "      <td>18</td>\n",
       "      <td>Part Three</td>\n",
       "      <td>WARREN ST</td>\n",
       "      <td>(42.31089170, -71.08322396)</td>\n",
       "      <td>False</td>\n",
       "    </tr>\n",
       "    <tr>\n",
       "      <th>84792</th>\n",
       "      <td>Warrant Arrests</td>\n",
       "      <td>A1</td>\n",
       "      <td>91</td>\n",
       "      <td>N</td>\n",
       "      <td>2018</td>\n",
       "      <td>2</td>\n",
       "      <td>Tuesday</td>\n",
       "      <td>15</td>\n",
       "      <td>Part Three</td>\n",
       "      <td>HANOVER ST</td>\n",
       "      <td>(42.36339154, -71.05488123)</td>\n",
       "      <td>False</td>\n",
       "    </tr>\n",
       "    <tr>\n",
       "      <th>301904</th>\n",
       "      <td>Other</td>\n",
       "      <td>B2</td>\n",
       "      <td>612</td>\n",
       "      <td>N</td>\n",
       "      <td>2015</td>\n",
       "      <td>12</td>\n",
       "      <td>Tuesday</td>\n",
       "      <td>16</td>\n",
       "      <td>Part Two</td>\n",
       "      <td>FRANCIS ST</td>\n",
       "      <td>(42.33606304, -71.10782832)</td>\n",
       "      <td>False</td>\n",
       "    </tr>\n",
       "    <tr>\n",
       "      <th>330213</th>\n",
       "      <td>Property Found</td>\n",
       "      <td>C11</td>\n",
       "      <td>355</td>\n",
       "      <td>N</td>\n",
       "      <td>2015</td>\n",
       "      <td>8</td>\n",
       "      <td>Tuesday</td>\n",
       "      <td>8</td>\n",
       "      <td>Part Three</td>\n",
       "      <td>GIBSON ST</td>\n",
       "      <td>(42.29755533, -71.05970910)</td>\n",
       "      <td>False</td>\n",
       "    </tr>\n",
       "  </tbody>\n",
       "</table>\n",
       "</div>"
      ],
      "text/plain": [
       "                     OFFENSE_CODE_GROUP DISTRICT  REPORTING_AREA SHOOTING  \\\n",
       "278846  Motor Vehicle Accident Response       B2             326        N   \n",
       "174575  Motor Vehicle Accident Response       B2             320        N   \n",
       "84792                   Warrant Arrests       A1              91        N   \n",
       "301904                            Other       B2             612        N   \n",
       "330213                   Property Found      C11             355        N   \n",
       "\n",
       "        YEAR  MONTH DAY_OF_WEEK  HOUR    UCR_PART      STREET  \\\n",
       "278846  2016      3     Tuesday    18  Part Three   QUINCY ST   \n",
       "174575  2017      3    Saturday    18  Part Three   WARREN ST   \n",
       "84792   2018      2     Tuesday    15  Part Three  HANOVER ST   \n",
       "301904  2015     12     Tuesday    16    Part Two  FRANCIS ST   \n",
       "330213  2015      8     Tuesday     8  Part Three   GIBSON ST   \n",
       "\n",
       "                           LOCATION  IS_LARCENY  \n",
       "278846  (42.31297722, -71.07499278)       False  \n",
       "174575  (42.31089170, -71.08322396)       False  \n",
       "84792   (42.36339154, -71.05488123)       False  \n",
       "301904  (42.33606304, -71.10782832)       False  \n",
       "330213  (42.29755533, -71.05970910)       False  "
      ]
     },
     "execution_count": 104,
     "metadata": {},
     "output_type": "execute_result"
    }
   ],
   "source": [
    "crime_part.sample(5)"
   ]
  },
  {
   "cell_type": "code",
   "execution_count": 105,
   "metadata": {},
   "outputs": [],
   "source": [
    "# preprocess\n",
    "columns_num = ['YEAR', 'MONTH', 'HOUR', 'REPORTING_AREA']\n",
    "columns_str = ['DISTRICT', 'SHOOTING', 'UCR_PART', 'DAY_OF_WEEK']\n",
    "ct = ColumnTransformer([\n",
    "    (\"num\", OneHotEncoder(categories=\"auto\"), columns_num),\n",
    "    (\"cat\", OneHotEncoder(), columns_str),\n",
    "])"
   ]
  },
  {
   "cell_type": "code",
   "execution_count": 106,
   "metadata": {},
   "outputs": [],
   "source": [
    "X = ct.fit_transform(x).todense()"
   ]
  },
  {
   "cell_type": "code",
   "execution_count": 107,
   "metadata": {},
   "outputs": [
    {
     "data": {
      "text/plain": [
       "(100000, 943)"
      ]
     },
     "execution_count": 107,
     "metadata": {},
     "output_type": "execute_result"
    }
   ],
   "source": [
    "X.shape"
   ]
  },
  {
   "cell_type": "code",
   "execution_count": 108,
   "metadata": {},
   "outputs": [],
   "source": [
    "def compute_accuracy(model, x, y):\n",
    "    # cross validation to calculate training accuracy\n",
    "    return cross_val_score(model, x, y, cv=5, scoring='accuracy', n_jobs=-1).mean()*100\n",
    "\n",
    "def plot_accuracies(models, x, y):\n",
    "    # plot accuricies of models\n",
    "    names = models.keys()\n",
    "    accuricies = []\n",
    "    for name, model in models.items():\n",
    "        scores = compute_accuracy(model, x, y)\n",
    "        print(name, scores)\n",
    "        accuricies.append(round(scores, 2))\n",
    "    plt.xlabel('model name')\n",
    "    plt.ylabel('accuracy /%')\n",
    "    for a,b in zip(names, accuricies):  \n",
    "        plt.text(a, b+0.1, str(b)+'%', ha='center', va='bottom',fontsize=11) \n",
    "    plt.bar(names, accuricies)\n",
    "    plt.show()"
   ]
  },
  {
   "cell_type": "code",
   "execution_count": 109,
   "metadata": {},
   "outputs": [
    {
     "name": "stdout",
     "output_type": "stream",
     "text": [
      "dtc 92.63400448536501\n",
      "rfc 93.23100638652002\n",
      "nb 90.1989997304425\n",
      "lr 94.0260043380875\n"
     ]
    },
    {
     "data": {
      "image/png": "[encoded data removed]",
      "text/plain": [
       "<Figure size 432x288 with 1 Axes>"
      ]
     },
     "metadata": {
      "needs_background": "light"
     },
     "output_type": "display_data"
    }
   ],
   "source": [
    "random_num = 42\n",
    "\n",
    "lr = LogisticRegression(random_state=random_num)\n",
    "dtc = DecisionTreeClassifier(random_state=random_num)\n",
    "rfc = RandomForestClassifier(random_state=random_num)\n",
    "nb = GaussianNB()\n",
    "\n",
    "models = {\n",
    "    'dtc': dtc,\n",
    "    'rfc': rfc,\n",
    "    'nb': nb,\n",
    "    'lr': lr,\n",
    "}\n",
    "\n",
    "plot_accuracies(models, X, y)"
   ]
  },
  {
   "cell_type": "code",
   "execution_count": 110,
   "metadata": {},
   "outputs": [],
   "source": [
    "from sklearn.model_selection import train_test_split\n",
    "from sklearn.metrics import classification_report, confusion_matrix"
   ]
  },
  {
   "cell_type": "code",
   "execution_count": 111,
   "metadata": {},
   "outputs": [],
   "source": [
    "import itertools\n",
    "def plot_confusion_matrix(cm, classes,\n",
    "                          normalize=False,\n",
    "                          title='Confusion matrix',\n",
    "                          cmap=plt.cm.Blues):\n",
    "    \"\"\"\n",
    "    This function prints and plots the confusion matrix.\n",
    "    Normalization can be applied by setting `normalize=True`.\n",
    "    \"\"\"\n",
    "    if normalize:\n",
    "        cm = cm.astype('float') / cm.sum(axis=1)[:, np.newaxis]\n",
    "#         print(\"Normalized confusion matrix\")\n",
    "#     else:\n",
    "#         print('Confusion matrix, without normalization')\n",
    "\n",
    "    plt.imshow(cm, interpolation='nearest', cmap=cmap)\n",
    "    plt.title(title)\n",
    "    plt.colorbar()\n",
    "    tick_marks = np.arange(len(classes))\n",
    "    plt.xticks(tick_marks, classes, rotation=45)\n",
    "    plt.yticks(tick_marks, classes)\n",
    "\n",
    "    fmt = '.2f' if normalize else 'd'\n",
    "    thresh = cm.max() / 2.\n",
    "    for i, j in itertools.product(range(cm.shape[0]), range(cm.shape[1])):\n",
    "        plt.text(j, i, format(cm[i, j], fmt),\n",
    "                 horizontalalignment=\"center\",\n",
    "                 color=\"white\" if cm[i, j] > thresh else \"black\")\n",
    "\n",
    "    plt.ylabel('True label')\n",
    "    plt.xlabel('Predicted label')\n",
    "    plt.tight_layout()"
   ]
  },
  {
   "cell_type": "code",
   "execution_count": 112,
   "metadata": {},
   "outputs": [
    {
     "name": "stderr",
     "output_type": "stream",
     "text": [
      "C:\\Users\\zz\\AppData\\Roaming\\Python\\Python37\\site-packages\\sklearn\\model_selection\\_split.py:2179: FutureWarning: From version 0.21, test_size will always complement train_size unless both are specified.\n",
      "  FutureWarning)\n"
     ]
    }
   ],
   "source": [
    "x_train, x_test, y_train, y_test = train_test_split(X, y, train_size=0.7, random_state=random_num)"
   ]
  },
  {
   "cell_type": "code",
   "execution_count": 113,
   "metadata": {},
   "outputs": [
    {
     "name": "stderr",
     "output_type": "stream",
     "text": [
      "C:\\Users\\zz\\AppData\\Roaming\\Python\\Python37\\site-packages\\sklearn\\ensemble\\forest.py:246: FutureWarning: The default value of n_estimators will change from 10 in version 0.20 to 100 in 0.22.\n",
      "  \"10 in version 0.20 to 100 in 0.22.\", FutureWarning)\n"
     ]
    },
    {
     "name": "stdout",
     "output_type": "stream",
     "text": [
      "rfc train score:  0.9953\n",
      "rfc test  score:  0.9329\n"
     ]
    }
   ],
   "source": [
    "# rfc with default params\n",
    "rfc = RandomForestClassifier(random_state=random_num)\n",
    "\n",
    "rfc.fit(x_train, y_train)\n",
    "\n",
    "# accuracy score\n",
    "train_score = rfc.score(x_train, y_train)\n",
    "test_score = rfc.score(x_test, y_test)\n",
    "print('rfc train score: ', round(train_score, 4))\n",
    "print('rfc test  score: ', round(test_score, 4))"
   ]
  },
  {
   "cell_type": "code",
   "execution_count": 114,
   "metadata": {},
   "outputs": [
    {
     "name": "stdout",
     "output_type": "stream",
     "text": [
      "********** rfc train classification report **********\n",
      "\n",
      "              precision    recall  f1-score   support\n",
      "\n",
      "       False       1.00      1.00      1.00     64241\n",
      "        True       0.99      0.95      0.97      5759\n",
      "\n",
      "   micro avg       1.00      1.00      1.00     70000\n",
      "   macro avg       0.99      0.98      0.98     70000\n",
      "weighted avg       1.00      1.00      1.00     70000\n",
      "\n",
      "\n",
      "********** rfc test  classification report **********\n",
      "\n",
      "              precision    recall  f1-score   support\n",
      "\n",
      "       False       0.95      0.98      0.96     27556\n",
      "        True       0.63      0.42      0.51      2444\n",
      "\n",
      "   micro avg       0.93      0.93      0.93     30000\n",
      "   macro avg       0.79      0.70      0.73     30000\n",
      "weighted avg       0.92      0.93      0.93     30000\n",
      "\n"
     ]
    }
   ],
   "source": [
    "# classification report\n",
    "train_report = classification_report(y_train, rfc.predict(x_train))\n",
    "test_report = classification_report(y_test, rfc.predict(x_test))\n",
    "print(\"*\"*10, 'rfc train classification report', '*'*10)\n",
    "print()\n",
    "print(train_report)\n",
    "print()\n",
    "print(\"*\"*10, 'rfc test  classification report', '*'*10)\n",
    "print()\n",
    "print(test_report)"
   ]
  },
  {
   "cell_type": "code",
   "execution_count": 115,
   "metadata": {},
   "outputs": [
    {
     "data": {
      "image/png": "[encoded data removed]",
      "text/plain": [
       "<Figure size 1440x360 with 3 Axes>"
      ]
     },
     "metadata": {
      "needs_background": "light"
     },
     "output_type": "display_data"
    }
   ],
   "source": [
    "# confusion martix\n",
    "plt.figure(figsize=(20, 5))\n",
    "train_cm = confusion_matrix(y_train, rfc.predict(x_train))\n",
    "test_cm = confusion_matrix(y_test, rfc.predict(x_test))\n",
    "\n",
    "plt.subplot(1, 2, 1)\n",
    "plot_confusion_matrix(train_cm, [\"True\", \"False\"], title=\"rfc train confusion martix\")\n",
    "plt.subplot(1, 2, 2)\n",
    "plot_confusion_matrix(test_cm, ['True', 'False'], title=\"rfc test confusion martix\")"
   ]
  }
 ],
 "metadata": {
  "kernelspec": {
   "display_name": "Python 3",
   "language": "python",
   "name": "python3"
  },
  "language_info": {
   "codemirror_mode": {
    "name": "ipython",
    "version": 3
   },
   "file_extension": ".py",
   "mimetype": "text/x-python",
   "name": "python",
   "nbconvert_exporter": "python",
   "pygments_lexer": "ipython3",
   "version": "3.7.1"
  }
 },
 "nbformat": 4,
 "nbformat_minor": 2
}
